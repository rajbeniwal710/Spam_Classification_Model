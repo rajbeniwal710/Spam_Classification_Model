{
  "nbformat": 4,
  "nbformat_minor": 0,
  "metadata": {
    "colab": {
      "name": "spam_classification.ipynb",
      "provenance": [],
      "authorship_tag": "ABX9TyMPcj5Dn/kPGuBPKZPnAIj7",
      "include_colab_link": true
    },
    "kernelspec": {
      "display_name": "Python 3",
      "name": "python3"
    }
  },
  "cells": [
    {
      "cell_type": "markdown",
      "metadata": {
        "id": "view-in-github",
        "colab_type": "text"
      },
      "source": [
        "<a href=\"https://colab.research.google.com/github/rajbeniwal710/Spam_Collection_Model/blob/main/spam_classification.ipynb\" target=\"_parent\"><img src=\"https://colab.research.google.com/assets/colab-badge.svg\" alt=\"Open In Colab\"/></a>"
      ]
    },
    {
      "cell_type": "markdown",
      "metadata": {
        "id": "OfLPouZoVnOf"
      },
      "source": [
        "A Spam Classification Model"
      ]
    },
    {
      "cell_type": "code",
      "metadata": {
        "colab": {
          "base_uri": "https://localhost:8080/"
        },
        "id": "CdZoLWVzTQ3G",
        "outputId": "f37633a9-094e-461d-8b9d-04810105cdec"
      },
      "source": [
        "from google.colab import drive\r\n",
        "drive.mount('/content/drive')"
      ],
      "execution_count": 5,
      "outputs": [
        {
          "output_type": "stream",
          "text": [
            "Mounted at /content/drive\n"
          ],
          "name": "stdout"
        }
      ]
    },
    {
      "cell_type": "code",
      "metadata": {
        "id": "rVnCKvvqUhxe"
      },
      "source": [
        "import pandas as pd"
      ],
      "execution_count": 6,
      "outputs": []
    },
    {
      "cell_type": "code",
      "metadata": {
        "id": "FmN2FjBUUBZn"
      },
      "source": [
        "data = pd.read_csv('/content/drive/MyDrive/Untitled/SMSSpamCollection (1).tsv', sep = '\\t')\r\n",
        "data.columns = ['label', 'text']"
      ],
      "execution_count": 7,
      "outputs": []
    },
    {
      "cell_type": "code",
      "metadata": {
        "colab": {
          "base_uri": "https://localhost:8080/"
        },
        "id": "q1lfFMwmUYq7",
        "outputId": "b791af6f-ee07-427b-dc88-9c1f6e173912"
      },
      "source": [
        "#loading libraries and modules\r\n",
        "import nltk\r\n",
        "import re\r\n",
        "from sklearn.feature_extraction.text import TfidfVectorizer\r\n",
        "import string\r\n",
        "nltk.download('stopwords')\r\n",
        "nltk.download('wordnet')"
      ],
      "execution_count": 8,
      "outputs": [
        {
          "output_type": "stream",
          "text": [
            "[nltk_data] Downloading package stopwords to /root/nltk_data...\n",
            "[nltk_data]   Unzipping corpora/stopwords.zip.\n",
            "[nltk_data] Downloading package wordnet to /root/nltk_data...\n",
            "[nltk_data]   Unzipping corpora/wordnet.zip.\n"
          ],
          "name": "stdout"
        },
        {
          "output_type": "execute_result",
          "data": {
            "text/plain": [
              "True"
            ]
          },
          "metadata": {
            "tags": []
          },
          "execution_count": 8
        }
      ]
    },
    {
      "cell_type": "code",
      "metadata": {
        "id": "IhJKtUdsWCMc"
      },
      "source": [
        "\r\n",
        "wn = nltk.WordNetLemmatizer()\r\n",
        "stopwords = nltk.corpus.stopwords.words('english')\r\n",
        "\r\n",
        "def count_punct(text):\r\n",
        "  count = sum([1 for char in text if char in string.punctuation])\r\n",
        "  return round(count/(len(text) - text.count(' ')),3)*100\r\n",
        "\r\n",
        "data['% punct'] = data['text'].apply(lambda x: count_punct(x))\r\n",
        "data['text_len'] = data['text'].apply(lambda x: len(x) - x.count(' '))\r\n",
        "\r\n",
        "def clean_text(text):\r\n",
        "  text1 = \"\".join([char.lower() for char in text if char not in string.punctuation])\r\n",
        "  tokens = re.split('\\W+', text1)\r\n",
        "  text_stem = [wn.lemmatize(word) for word in tokens if word not in stopwords]\r\n",
        "  return text_stem\r\n",
        "\r\n",
        "tfidf = TfidfVectorizer(analyzer = clean_text)\r\n",
        "x = tfidf.fit_transform(data['text'])"
      ],
      "execution_count": 9,
      "outputs": []
    },
    {
      "cell_type": "code",
      "metadata": {
        "colab": {
          "base_uri": "https://localhost:8080/",
          "height": 270
        },
        "id": "vN7Rt4XcWoPq",
        "outputId": "ea7d69dc-444e-4ea6-cfc4-3693f80b00ec"
      },
      "source": [
        "x_features = pd.concat([data['text_len'], data['% punct'], pd.DataFrame(x.toarray())], axis = 1)\r\n",
        "x_features.head()"
      ],
      "execution_count": 10,
      "outputs": [
        {
          "output_type": "execute_result",
          "data": {
            "text/html": [
              "<div>\n",
              "<style scoped>\n",
              "    .dataframe tbody tr th:only-of-type {\n",
              "        vertical-align: middle;\n",
              "    }\n",
              "\n",
              "    .dataframe tbody tr th {\n",
              "        vertical-align: top;\n",
              "    }\n",
              "\n",
              "    .dataframe thead th {\n",
              "        text-align: right;\n",
              "    }\n",
              "</style>\n",
              "<table border=\"1\" class=\"dataframe\">\n",
              "  <thead>\n",
              "    <tr style=\"text-align: right;\">\n",
              "      <th></th>\n",
              "      <th>text_len</th>\n",
              "      <th>% punct</th>\n",
              "      <th>0</th>\n",
              "      <th>1</th>\n",
              "      <th>2</th>\n",
              "      <th>3</th>\n",
              "      <th>4</th>\n",
              "      <th>5</th>\n",
              "      <th>6</th>\n",
              "      <th>7</th>\n",
              "      <th>8</th>\n",
              "      <th>9</th>\n",
              "      <th>10</th>\n",
              "      <th>11</th>\n",
              "      <th>12</th>\n",
              "      <th>13</th>\n",
              "      <th>14</th>\n",
              "      <th>15</th>\n",
              "      <th>16</th>\n",
              "      <th>17</th>\n",
              "      <th>18</th>\n",
              "      <th>19</th>\n",
              "      <th>20</th>\n",
              "      <th>21</th>\n",
              "      <th>22</th>\n",
              "      <th>23</th>\n",
              "      <th>24</th>\n",
              "      <th>25</th>\n",
              "      <th>26</th>\n",
              "      <th>27</th>\n",
              "      <th>28</th>\n",
              "      <th>29</th>\n",
              "      <th>30</th>\n",
              "      <th>31</th>\n",
              "      <th>32</th>\n",
              "      <th>33</th>\n",
              "      <th>34</th>\n",
              "      <th>35</th>\n",
              "      <th>36</th>\n",
              "      <th>37</th>\n",
              "      <th>...</th>\n",
              "      <th>8871</th>\n",
              "      <th>8872</th>\n",
              "      <th>8873</th>\n",
              "      <th>8874</th>\n",
              "      <th>8875</th>\n",
              "      <th>8876</th>\n",
              "      <th>8877</th>\n",
              "      <th>8878</th>\n",
              "      <th>8879</th>\n",
              "      <th>8880</th>\n",
              "      <th>8881</th>\n",
              "      <th>8882</th>\n",
              "      <th>8883</th>\n",
              "      <th>8884</th>\n",
              "      <th>8885</th>\n",
              "      <th>8886</th>\n",
              "      <th>8887</th>\n",
              "      <th>8888</th>\n",
              "      <th>8889</th>\n",
              "      <th>8890</th>\n",
              "      <th>8891</th>\n",
              "      <th>8892</th>\n",
              "      <th>8893</th>\n",
              "      <th>8894</th>\n",
              "      <th>8895</th>\n",
              "      <th>8896</th>\n",
              "      <th>8897</th>\n",
              "      <th>8898</th>\n",
              "      <th>8899</th>\n",
              "      <th>8900</th>\n",
              "      <th>8901</th>\n",
              "      <th>8902</th>\n",
              "      <th>8903</th>\n",
              "      <th>8904</th>\n",
              "      <th>8905</th>\n",
              "      <th>8906</th>\n",
              "      <th>8907</th>\n",
              "      <th>8908</th>\n",
              "      <th>8909</th>\n",
              "      <th>8910</th>\n",
              "    </tr>\n",
              "  </thead>\n",
              "  <tbody>\n",
              "    <tr>\n",
              "      <th>0</th>\n",
              "      <td>128</td>\n",
              "      <td>4.7</td>\n",
              "      <td>0.0</td>\n",
              "      <td>0.0</td>\n",
              "      <td>0.0</td>\n",
              "      <td>0.0</td>\n",
              "      <td>0.0</td>\n",
              "      <td>0.0</td>\n",
              "      <td>0.0</td>\n",
              "      <td>0.0</td>\n",
              "      <td>0.0</td>\n",
              "      <td>0.0</td>\n",
              "      <td>0.0</td>\n",
              "      <td>0.0</td>\n",
              "      <td>0.0</td>\n",
              "      <td>0.0</td>\n",
              "      <td>0.0</td>\n",
              "      <td>0.0</td>\n",
              "      <td>0.0</td>\n",
              "      <td>0.0</td>\n",
              "      <td>0.0</td>\n",
              "      <td>0.0</td>\n",
              "      <td>0.0</td>\n",
              "      <td>0.0</td>\n",
              "      <td>0.0</td>\n",
              "      <td>0.0</td>\n",
              "      <td>0.0</td>\n",
              "      <td>0.0</td>\n",
              "      <td>0.0</td>\n",
              "      <td>0.0</td>\n",
              "      <td>0.0</td>\n",
              "      <td>0.0</td>\n",
              "      <td>0.0</td>\n",
              "      <td>0.0</td>\n",
              "      <td>0.0</td>\n",
              "      <td>0.0</td>\n",
              "      <td>0.0</td>\n",
              "      <td>0.0</td>\n",
              "      <td>0.0</td>\n",
              "      <td>0.0</td>\n",
              "      <td>...</td>\n",
              "      <td>0.0</td>\n",
              "      <td>0.0</td>\n",
              "      <td>0.0</td>\n",
              "      <td>0.0</td>\n",
              "      <td>0.0</td>\n",
              "      <td>0.0</td>\n",
              "      <td>0.0</td>\n",
              "      <td>0.0</td>\n",
              "      <td>0.0</td>\n",
              "      <td>0.0</td>\n",
              "      <td>0.0</td>\n",
              "      <td>0.0</td>\n",
              "      <td>0.0</td>\n",
              "      <td>0.0</td>\n",
              "      <td>0.0</td>\n",
              "      <td>0.0</td>\n",
              "      <td>0.0</td>\n",
              "      <td>0.0</td>\n",
              "      <td>0.0</td>\n",
              "      <td>0.0</td>\n",
              "      <td>0.0</td>\n",
              "      <td>0.0</td>\n",
              "      <td>0.0</td>\n",
              "      <td>0.0</td>\n",
              "      <td>0.0</td>\n",
              "      <td>0.0</td>\n",
              "      <td>0.0</td>\n",
              "      <td>0.0</td>\n",
              "      <td>0.0</td>\n",
              "      <td>0.0</td>\n",
              "      <td>0.0</td>\n",
              "      <td>0.0</td>\n",
              "      <td>0.0</td>\n",
              "      <td>0.0</td>\n",
              "      <td>0.0</td>\n",
              "      <td>0.0</td>\n",
              "      <td>0.0</td>\n",
              "      <td>0.0</td>\n",
              "      <td>0.0</td>\n",
              "      <td>0.0</td>\n",
              "    </tr>\n",
              "    <tr>\n",
              "      <th>1</th>\n",
              "      <td>49</td>\n",
              "      <td>4.1</td>\n",
              "      <td>0.0</td>\n",
              "      <td>0.0</td>\n",
              "      <td>0.0</td>\n",
              "      <td>0.0</td>\n",
              "      <td>0.0</td>\n",
              "      <td>0.0</td>\n",
              "      <td>0.0</td>\n",
              "      <td>0.0</td>\n",
              "      <td>0.0</td>\n",
              "      <td>0.0</td>\n",
              "      <td>0.0</td>\n",
              "      <td>0.0</td>\n",
              "      <td>0.0</td>\n",
              "      <td>0.0</td>\n",
              "      <td>0.0</td>\n",
              "      <td>0.0</td>\n",
              "      <td>0.0</td>\n",
              "      <td>0.0</td>\n",
              "      <td>0.0</td>\n",
              "      <td>0.0</td>\n",
              "      <td>0.0</td>\n",
              "      <td>0.0</td>\n",
              "      <td>0.0</td>\n",
              "      <td>0.0</td>\n",
              "      <td>0.0</td>\n",
              "      <td>0.0</td>\n",
              "      <td>0.0</td>\n",
              "      <td>0.0</td>\n",
              "      <td>0.0</td>\n",
              "      <td>0.0</td>\n",
              "      <td>0.0</td>\n",
              "      <td>0.0</td>\n",
              "      <td>0.0</td>\n",
              "      <td>0.0</td>\n",
              "      <td>0.0</td>\n",
              "      <td>0.0</td>\n",
              "      <td>0.0</td>\n",
              "      <td>0.0</td>\n",
              "      <td>...</td>\n",
              "      <td>0.0</td>\n",
              "      <td>0.0</td>\n",
              "      <td>0.0</td>\n",
              "      <td>0.0</td>\n",
              "      <td>0.0</td>\n",
              "      <td>0.0</td>\n",
              "      <td>0.0</td>\n",
              "      <td>0.0</td>\n",
              "      <td>0.0</td>\n",
              "      <td>0.0</td>\n",
              "      <td>0.0</td>\n",
              "      <td>0.0</td>\n",
              "      <td>0.0</td>\n",
              "      <td>0.0</td>\n",
              "      <td>0.0</td>\n",
              "      <td>0.0</td>\n",
              "      <td>0.0</td>\n",
              "      <td>0.0</td>\n",
              "      <td>0.0</td>\n",
              "      <td>0.0</td>\n",
              "      <td>0.0</td>\n",
              "      <td>0.0</td>\n",
              "      <td>0.0</td>\n",
              "      <td>0.0</td>\n",
              "      <td>0.0</td>\n",
              "      <td>0.0</td>\n",
              "      <td>0.0</td>\n",
              "      <td>0.0</td>\n",
              "      <td>0.0</td>\n",
              "      <td>0.0</td>\n",
              "      <td>0.0</td>\n",
              "      <td>0.0</td>\n",
              "      <td>0.0</td>\n",
              "      <td>0.0</td>\n",
              "      <td>0.0</td>\n",
              "      <td>0.0</td>\n",
              "      <td>0.0</td>\n",
              "      <td>0.0</td>\n",
              "      <td>0.0</td>\n",
              "      <td>0.0</td>\n",
              "    </tr>\n",
              "    <tr>\n",
              "      <th>2</th>\n",
              "      <td>62</td>\n",
              "      <td>3.2</td>\n",
              "      <td>0.0</td>\n",
              "      <td>0.0</td>\n",
              "      <td>0.0</td>\n",
              "      <td>0.0</td>\n",
              "      <td>0.0</td>\n",
              "      <td>0.0</td>\n",
              "      <td>0.0</td>\n",
              "      <td>0.0</td>\n",
              "      <td>0.0</td>\n",
              "      <td>0.0</td>\n",
              "      <td>0.0</td>\n",
              "      <td>0.0</td>\n",
              "      <td>0.0</td>\n",
              "      <td>0.0</td>\n",
              "      <td>0.0</td>\n",
              "      <td>0.0</td>\n",
              "      <td>0.0</td>\n",
              "      <td>0.0</td>\n",
              "      <td>0.0</td>\n",
              "      <td>0.0</td>\n",
              "      <td>0.0</td>\n",
              "      <td>0.0</td>\n",
              "      <td>0.0</td>\n",
              "      <td>0.0</td>\n",
              "      <td>0.0</td>\n",
              "      <td>0.0</td>\n",
              "      <td>0.0</td>\n",
              "      <td>0.0</td>\n",
              "      <td>0.0</td>\n",
              "      <td>0.0</td>\n",
              "      <td>0.0</td>\n",
              "      <td>0.0</td>\n",
              "      <td>0.0</td>\n",
              "      <td>0.0</td>\n",
              "      <td>0.0</td>\n",
              "      <td>0.0</td>\n",
              "      <td>0.0</td>\n",
              "      <td>0.0</td>\n",
              "      <td>...</td>\n",
              "      <td>0.0</td>\n",
              "      <td>0.0</td>\n",
              "      <td>0.0</td>\n",
              "      <td>0.0</td>\n",
              "      <td>0.0</td>\n",
              "      <td>0.0</td>\n",
              "      <td>0.0</td>\n",
              "      <td>0.0</td>\n",
              "      <td>0.0</td>\n",
              "      <td>0.0</td>\n",
              "      <td>0.0</td>\n",
              "      <td>0.0</td>\n",
              "      <td>0.0</td>\n",
              "      <td>0.0</td>\n",
              "      <td>0.0</td>\n",
              "      <td>0.0</td>\n",
              "      <td>0.0</td>\n",
              "      <td>0.0</td>\n",
              "      <td>0.0</td>\n",
              "      <td>0.0</td>\n",
              "      <td>0.0</td>\n",
              "      <td>0.0</td>\n",
              "      <td>0.0</td>\n",
              "      <td>0.0</td>\n",
              "      <td>0.0</td>\n",
              "      <td>0.0</td>\n",
              "      <td>0.0</td>\n",
              "      <td>0.0</td>\n",
              "      <td>0.0</td>\n",
              "      <td>0.0</td>\n",
              "      <td>0.0</td>\n",
              "      <td>0.0</td>\n",
              "      <td>0.0</td>\n",
              "      <td>0.0</td>\n",
              "      <td>0.0</td>\n",
              "      <td>0.0</td>\n",
              "      <td>0.0</td>\n",
              "      <td>0.0</td>\n",
              "      <td>0.0</td>\n",
              "      <td>0.0</td>\n",
              "    </tr>\n",
              "    <tr>\n",
              "      <th>3</th>\n",
              "      <td>28</td>\n",
              "      <td>7.1</td>\n",
              "      <td>0.0</td>\n",
              "      <td>0.0</td>\n",
              "      <td>0.0</td>\n",
              "      <td>0.0</td>\n",
              "      <td>0.0</td>\n",
              "      <td>0.0</td>\n",
              "      <td>0.0</td>\n",
              "      <td>0.0</td>\n",
              "      <td>0.0</td>\n",
              "      <td>0.0</td>\n",
              "      <td>0.0</td>\n",
              "      <td>0.0</td>\n",
              "      <td>0.0</td>\n",
              "      <td>0.0</td>\n",
              "      <td>0.0</td>\n",
              "      <td>0.0</td>\n",
              "      <td>0.0</td>\n",
              "      <td>0.0</td>\n",
              "      <td>0.0</td>\n",
              "      <td>0.0</td>\n",
              "      <td>0.0</td>\n",
              "      <td>0.0</td>\n",
              "      <td>0.0</td>\n",
              "      <td>0.0</td>\n",
              "      <td>0.0</td>\n",
              "      <td>0.0</td>\n",
              "      <td>0.0</td>\n",
              "      <td>0.0</td>\n",
              "      <td>0.0</td>\n",
              "      <td>0.0</td>\n",
              "      <td>0.0</td>\n",
              "      <td>0.0</td>\n",
              "      <td>0.0</td>\n",
              "      <td>0.0</td>\n",
              "      <td>0.0</td>\n",
              "      <td>0.0</td>\n",
              "      <td>0.0</td>\n",
              "      <td>0.0</td>\n",
              "      <td>...</td>\n",
              "      <td>0.0</td>\n",
              "      <td>0.0</td>\n",
              "      <td>0.0</td>\n",
              "      <td>0.0</td>\n",
              "      <td>0.0</td>\n",
              "      <td>0.0</td>\n",
              "      <td>0.0</td>\n",
              "      <td>0.0</td>\n",
              "      <td>0.0</td>\n",
              "      <td>0.0</td>\n",
              "      <td>0.0</td>\n",
              "      <td>0.0</td>\n",
              "      <td>0.0</td>\n",
              "      <td>0.0</td>\n",
              "      <td>0.0</td>\n",
              "      <td>0.0</td>\n",
              "      <td>0.0</td>\n",
              "      <td>0.0</td>\n",
              "      <td>0.0</td>\n",
              "      <td>0.0</td>\n",
              "      <td>0.0</td>\n",
              "      <td>0.0</td>\n",
              "      <td>0.0</td>\n",
              "      <td>0.0</td>\n",
              "      <td>0.0</td>\n",
              "      <td>0.0</td>\n",
              "      <td>0.0</td>\n",
              "      <td>0.0</td>\n",
              "      <td>0.0</td>\n",
              "      <td>0.0</td>\n",
              "      <td>0.0</td>\n",
              "      <td>0.0</td>\n",
              "      <td>0.0</td>\n",
              "      <td>0.0</td>\n",
              "      <td>0.0</td>\n",
              "      <td>0.0</td>\n",
              "      <td>0.0</td>\n",
              "      <td>0.0</td>\n",
              "      <td>0.0</td>\n",
              "      <td>0.0</td>\n",
              "    </tr>\n",
              "    <tr>\n",
              "      <th>4</th>\n",
              "      <td>135</td>\n",
              "      <td>4.4</td>\n",
              "      <td>0.0</td>\n",
              "      <td>0.0</td>\n",
              "      <td>0.0</td>\n",
              "      <td>0.0</td>\n",
              "      <td>0.0</td>\n",
              "      <td>0.0</td>\n",
              "      <td>0.0</td>\n",
              "      <td>0.0</td>\n",
              "      <td>0.0</td>\n",
              "      <td>0.0</td>\n",
              "      <td>0.0</td>\n",
              "      <td>0.0</td>\n",
              "      <td>0.0</td>\n",
              "      <td>0.0</td>\n",
              "      <td>0.0</td>\n",
              "      <td>0.0</td>\n",
              "      <td>0.0</td>\n",
              "      <td>0.0</td>\n",
              "      <td>0.0</td>\n",
              "      <td>0.0</td>\n",
              "      <td>0.0</td>\n",
              "      <td>0.0</td>\n",
              "      <td>0.0</td>\n",
              "      <td>0.0</td>\n",
              "      <td>0.0</td>\n",
              "      <td>0.0</td>\n",
              "      <td>0.0</td>\n",
              "      <td>0.0</td>\n",
              "      <td>0.0</td>\n",
              "      <td>0.0</td>\n",
              "      <td>0.0</td>\n",
              "      <td>0.0</td>\n",
              "      <td>0.0</td>\n",
              "      <td>0.0</td>\n",
              "      <td>0.0</td>\n",
              "      <td>0.0</td>\n",
              "      <td>0.0</td>\n",
              "      <td>0.0</td>\n",
              "      <td>...</td>\n",
              "      <td>0.0</td>\n",
              "      <td>0.0</td>\n",
              "      <td>0.0</td>\n",
              "      <td>0.0</td>\n",
              "      <td>0.0</td>\n",
              "      <td>0.0</td>\n",
              "      <td>0.0</td>\n",
              "      <td>0.0</td>\n",
              "      <td>0.0</td>\n",
              "      <td>0.0</td>\n",
              "      <td>0.0</td>\n",
              "      <td>0.0</td>\n",
              "      <td>0.0</td>\n",
              "      <td>0.0</td>\n",
              "      <td>0.0</td>\n",
              "      <td>0.0</td>\n",
              "      <td>0.0</td>\n",
              "      <td>0.0</td>\n",
              "      <td>0.0</td>\n",
              "      <td>0.0</td>\n",
              "      <td>0.0</td>\n",
              "      <td>0.0</td>\n",
              "      <td>0.0</td>\n",
              "      <td>0.0</td>\n",
              "      <td>0.0</td>\n",
              "      <td>0.0</td>\n",
              "      <td>0.0</td>\n",
              "      <td>0.0</td>\n",
              "      <td>0.0</td>\n",
              "      <td>0.0</td>\n",
              "      <td>0.0</td>\n",
              "      <td>0.0</td>\n",
              "      <td>0.0</td>\n",
              "      <td>0.0</td>\n",
              "      <td>0.0</td>\n",
              "      <td>0.0</td>\n",
              "      <td>0.0</td>\n",
              "      <td>0.0</td>\n",
              "      <td>0.0</td>\n",
              "      <td>0.0</td>\n",
              "    </tr>\n",
              "  </tbody>\n",
              "</table>\n",
              "<p>5 rows × 8913 columns</p>\n",
              "</div>"
            ],
            "text/plain": [
              "   text_len  % punct    0    1    2    3  ...  8905  8906  8907  8908  8909  8910\n",
              "0       128      4.7  0.0  0.0  0.0  0.0  ...   0.0   0.0   0.0   0.0   0.0   0.0\n",
              "1        49      4.1  0.0  0.0  0.0  0.0  ...   0.0   0.0   0.0   0.0   0.0   0.0\n",
              "2        62      3.2  0.0  0.0  0.0  0.0  ...   0.0   0.0   0.0   0.0   0.0   0.0\n",
              "3        28      7.1  0.0  0.0  0.0  0.0  ...   0.0   0.0   0.0   0.0   0.0   0.0\n",
              "4       135      4.4  0.0  0.0  0.0  0.0  ...   0.0   0.0   0.0   0.0   0.0   0.0\n",
              "\n",
              "[5 rows x 8913 columns]"
            ]
          },
          "metadata": {
            "tags": []
          },
          "execution_count": 10
        }
      ]
    },
    {
      "cell_type": "markdown",
      "metadata": {
        "id": "Njs_7C3dYGry"
      },
      "source": [
        "Random Forest Classification"
      ]
    },
    {
      "cell_type": "code",
      "metadata": {
        "id": "beOF-1OlX3FZ"
      },
      "source": [
        "from sklearn.ensemble import RandomForestClassifier\r\n",
        "from sklearn.model_selection import KFold, cross_val_score"
      ],
      "execution_count": 11,
      "outputs": []
    },
    {
      "cell_type": "code",
      "metadata": {
        "colab": {
          "base_uri": "https://localhost:8080/"
        },
        "id": "TcU0T9laYu7n",
        "outputId": "3ace7ae9-194d-45d3-9a4e-77d682fe3d60"
      },
      "source": [
        "rf = RandomForestClassifier(n_jobs=-1)\r\n",
        "K_fold = KFold(n_splits=5)\r\n",
        "cross_val_score(rf, x_features, data['label'], cv=K_fold, scoring='accuracy',n_jobs=-1)"
      ],
      "execution_count": null,
      "outputs": [
        {
          "output_type": "stream",
          "text": [
            "/usr/local/lib/python3.6/dist-packages/joblib/externals/loky/process_executor.py:691: UserWarning: A worker stopped while some jobs were given to the executor. This can be caused by a too short worker timeout or by a memory leak.\n",
            "  \"timeout or by a memory leak.\", UserWarning\n"
          ],
          "name": "stderr"
        },
        {
          "output_type": "execute_result",
          "data": {
            "text/plain": [
              "array([0.97755835, 0.97935368, 0.97394429, 0.96585804, 0.97394429])"
            ]
          },
          "metadata": {
            "tags": []
          },
          "execution_count": 13
        }
      ]
    },
    {
      "cell_type": "markdown",
      "metadata": {
        "id": "D2mzBcjziM95"
      },
      "source": [
        "Grid Search Random Forest classifier"
      ]
    },
    {
      "cell_type": "code",
      "metadata": {
        "id": "hyabSkSoZc3c"
      },
      "source": [
        "from sklearn.ensemble import RandomForestClassifier\r\n",
        "from sklearn.metrics import precision_recall_fscore_support as score\r\n",
        "from sklearn.model_selection import train_test_split"
      ],
      "execution_count": 12,
      "outputs": []
    },
    {
      "cell_type": "code",
      "metadata": {
        "id": "pwrJHZ_WinkA"
      },
      "source": [
        "x_train, x_test, y_train, y_test = train_test_split(x_features, data['label'], test_size = 0.2)"
      ],
      "execution_count": null,
      "outputs": []
    },
    {
      "cell_type": "code",
      "metadata": {
        "id": "WExEneRMi3xw"
      },
      "source": [
        "def train_rf(n_est, depth):\r\n",
        "  rf = RandomForestClassifier(n_estimators=n_est, max_depth=depth, n_jobs=-1).fit(x_train,y_train)\r\n",
        "  y_pred = rf.predict(x_test)\r\n",
        "  precision, recall, fscore, support = score(y_test, y_pred, pos_label='spam', average='binary')\r\n",
        "  print('Est: {} / Depth: {} ------- Precision: {} / Recall: {}'.format(\r\n",
        "      n_est, depth, round(precision,3), round(recall, 3)\r\n",
        "  ))"
      ],
      "execution_count": null,
      "outputs": []
    },
    {
      "cell_type": "code",
      "metadata": {
        "id": "_ox1j81PoACR"
      },
      "source": [
        "rf = RandomForestClassifier(n_estimators=n_est, max_depth=depth, n_jobs=-1).fit(x_train,y_train)"
      ],
      "execution_count": null,
      "outputs": []
    },
    {
      "cell_type": "code",
      "metadata": {
        "colab": {
          "base_uri": "https://localhost:8080/"
        },
        "id": "NXIDFnlymq8n",
        "outputId": "e19595de-2f65-40ef-c44f-f8985e694ee0"
      },
      "source": [
        "for n_est in (10,50,100):\r\n",
        "  for depth in (10,20,30,None):\r\n",
        "    train_rf(n_est, depth)"
      ],
      "execution_count": null,
      "outputs": [
        {
          "output_type": "stream",
          "text": [
            "Est: 10 / Depth: 10 ------- Precision: 1.0 / Recall: 0.229\n",
            "Est: 10 / Depth: 20 ------- Precision: 1.0 / Recall: 0.503\n",
            "Est: 10 / Depth: 30 ------- Precision: 0.981 / Recall: 0.669\n",
            "Est: 10 / Depth: None ------- Precision: 0.978 / Recall: 0.834\n",
            "Est: 50 / Depth: 10 ------- Precision: 1.0 / Recall: 0.318\n",
            "Est: 50 / Depth: 20 ------- Precision: 1.0 / Recall: 0.618\n",
            "Est: 50 / Depth: 30 ------- Precision: 0.983 / Recall: 0.745\n",
            "Est: 50 / Depth: None ------- Precision: 0.993 / Recall: 0.86\n",
            "Est: 100 / Depth: 10 ------- Precision: 1.0 / Recall: 0.204\n",
            "Est: 100 / Depth: 20 ------- Precision: 1.0 / Recall: 0.58\n",
            "Est: 100 / Depth: 30 ------- Precision: 1.0 / Recall: 0.732\n",
            "Est: 100 / Depth: None ------- Precision: 1.0 / Recall: 0.854\n"
          ],
          "name": "stdout"
        }
      ]
    },
    {
      "cell_type": "code",
      "metadata": {
        "id": "fbhKCgQfnDy8"
      },
      "source": [
        "from sklearn.model_selection import  GridSearchCV"
      ],
      "execution_count": null,
      "outputs": []
    },
    {
      "cell_type": "code",
      "metadata": {
        "colab": {
          "background_save": true,
          "base_uri": "https://localhost:8080/"
        },
        "id": "LIges1Cmq1cw",
        "outputId": "c196a4bc-1843-4102-e9dc-ed93bbb13001"
      },
      "source": [
        "rf = RandomForestClassifier()\r\n",
        "param = {'n_estimators': [10, 150,300],\r\n",
        "         'max_depth': [30,60,90,None]}\r\n",
        "\r\n",
        "gs = GridSearchCV(rf, param, cv = 5, n_jobs=-1)\r\n",
        "gs_fit = gs.fit(x_features, data['label'])\r\n",
        "pd.DataFrame(gs_fit.cv_results_).sort_values('mean_test_score', ascending = False)[0:5]"
      ],
      "execution_count": null,
      "outputs": [
        {
          "output_type": "stream",
          "text": [
            "/usr/local/lib/python3.6/dist-packages/joblib/externals/loky/process_executor.py:691: UserWarning: A worker stopped while some jobs were given to the executor. This can be caused by a too short worker timeout or by a memory leak.\n",
            "  \"timeout or by a memory leak.\", UserWarning\n"
          ],
          "name": "stderr"
        },
        {
          "output_type": "execute_result",
          "data": {
            "text/html": [
              "<div>\n",
              "<style scoped>\n",
              "    .dataframe tbody tr th:only-of-type {\n",
              "        vertical-align: middle;\n",
              "    }\n",
              "\n",
              "    .dataframe tbody tr th {\n",
              "        vertical-align: top;\n",
              "    }\n",
              "\n",
              "    .dataframe thead th {\n",
              "        text-align: right;\n",
              "    }\n",
              "</style>\n",
              "<table border=\"1\" class=\"dataframe\">\n",
              "  <thead>\n",
              "    <tr style=\"text-align: right;\">\n",
              "      <th></th>\n",
              "      <th>mean_fit_time</th>\n",
              "      <th>std_fit_time</th>\n",
              "      <th>mean_score_time</th>\n",
              "      <th>std_score_time</th>\n",
              "      <th>param_max_depth</th>\n",
              "      <th>param_n_estimators</th>\n",
              "      <th>params</th>\n",
              "      <th>split0_test_score</th>\n",
              "      <th>split1_test_score</th>\n",
              "      <th>split2_test_score</th>\n",
              "      <th>split3_test_score</th>\n",
              "      <th>split4_test_score</th>\n",
              "      <th>mean_test_score</th>\n",
              "      <th>std_test_score</th>\n",
              "      <th>rank_test_score</th>\n",
              "    </tr>\n",
              "  </thead>\n",
              "  <tbody>\n",
              "    <tr>\n",
              "      <th>10</th>\n",
              "      <td>23.552762</td>\n",
              "      <td>0.250486</td>\n",
              "      <td>0.233416</td>\n",
              "      <td>0.005969</td>\n",
              "      <td>None</td>\n",
              "      <td>150</td>\n",
              "      <td>{'max_depth': None, 'n_estimators': 150}</td>\n",
              "      <td>0.980251</td>\n",
              "      <td>0.977558</td>\n",
              "      <td>0.976640</td>\n",
              "      <td>0.966757</td>\n",
              "      <td>0.969452</td>\n",
              "      <td>0.974132</td>\n",
              "      <td>0.005134</td>\n",
              "      <td>1</td>\n",
              "    </tr>\n",
              "    <tr>\n",
              "      <th>7</th>\n",
              "      <td>21.692076</td>\n",
              "      <td>0.477811</td>\n",
              "      <td>0.213619</td>\n",
              "      <td>0.007420</td>\n",
              "      <td>90</td>\n",
              "      <td>150</td>\n",
              "      <td>{'max_depth': 90, 'n_estimators': 150}</td>\n",
              "      <td>0.979354</td>\n",
              "      <td>0.977558</td>\n",
              "      <td>0.972147</td>\n",
              "      <td>0.969452</td>\n",
              "      <td>0.971249</td>\n",
              "      <td>0.973952</td>\n",
              "      <td>0.003821</td>\n",
              "      <td>2</td>\n",
              "    </tr>\n",
              "    <tr>\n",
              "      <th>8</th>\n",
              "      <td>41.579406</td>\n",
              "      <td>0.446287</td>\n",
              "      <td>0.355537</td>\n",
              "      <td>0.004304</td>\n",
              "      <td>90</td>\n",
              "      <td>300</td>\n",
              "      <td>{'max_depth': 90, 'n_estimators': 300}</td>\n",
              "      <td>0.979354</td>\n",
              "      <td>0.976661</td>\n",
              "      <td>0.973944</td>\n",
              "      <td>0.966757</td>\n",
              "      <td>0.970350</td>\n",
              "      <td>0.973413</td>\n",
              "      <td>0.004468</td>\n",
              "      <td>3</td>\n",
              "    </tr>\n",
              "    <tr>\n",
              "      <th>3</th>\n",
              "      <td>1.508750</td>\n",
              "      <td>0.064016</td>\n",
              "      <td>0.085936</td>\n",
              "      <td>0.019276</td>\n",
              "      <td>60</td>\n",
              "      <td>10</td>\n",
              "      <td>{'max_depth': 60, 'n_estimators': 10}</td>\n",
              "      <td>0.975763</td>\n",
              "      <td>0.976661</td>\n",
              "      <td>0.972147</td>\n",
              "      <td>0.964061</td>\n",
              "      <td>0.975741</td>\n",
              "      <td>0.972875</td>\n",
              "      <td>0.004671</td>\n",
              "      <td>4</td>\n",
              "    </tr>\n",
              "    <tr>\n",
              "      <th>11</th>\n",
              "      <td>43.279598</td>\n",
              "      <td>5.924815</td>\n",
              "      <td>0.362605</td>\n",
              "      <td>0.043699</td>\n",
              "      <td>None</td>\n",
              "      <td>300</td>\n",
              "      <td>{'max_depth': None, 'n_estimators': 300}</td>\n",
              "      <td>0.977558</td>\n",
              "      <td>0.976661</td>\n",
              "      <td>0.973046</td>\n",
              "      <td>0.964960</td>\n",
              "      <td>0.970350</td>\n",
              "      <td>0.972515</td>\n",
              "      <td>0.004575</td>\n",
              "      <td>5</td>\n",
              "    </tr>\n",
              "  </tbody>\n",
              "</table>\n",
              "</div>"
            ],
            "text/plain": [
              "    mean_fit_time  std_fit_time  ...  std_test_score  rank_test_score\n",
              "10      23.552762      0.250486  ...        0.005134                1\n",
              "7       21.692076      0.477811  ...        0.003821                2\n",
              "8       41.579406      0.446287  ...        0.004468                3\n",
              "3        1.508750      0.064016  ...        0.004671                4\n",
              "11      43.279598      5.924815  ...        0.004575                5\n",
              "\n",
              "[5 rows x 15 columns]"
            ]
          },
          "metadata": {
            "tags": []
          },
          "execution_count": 0
        }
      ]
    },
    {
      "cell_type": "markdown",
      "metadata": {
        "id": "9V7bQCZ0Q5Zl"
      },
      "source": [
        "Gradient Descent"
      ]
    },
    {
      "cell_type": "code",
      "metadata": {
        "id": "9k-3no2LsTNr"
      },
      "source": [
        "from sklearn.metrics import precision_recall_fscore_support as score\r\n",
        "from sklearn.model_selection import train_test_split\r\n",
        "from sklearn.ensemble import GradientBoostingClassifier"
      ],
      "execution_count": 14,
      "outputs": []
    },
    {
      "cell_type": "code",
      "metadata": {
        "id": "zk8HdEHCf4xl"
      },
      "source": [
        "x_train, x_test, y_train, y_test = train_test_split(x_features, data['label'], test_size = 0.2)"
      ],
      "execution_count": 14,
      "outputs": []
    },
    {
      "cell_type": "code",
      "metadata": {
        "id": "2vLzqhb0gUvE"
      },
      "source": [
        "def train_gb(est, max_depth, lr):\r\n",
        "  gb = GradientBoostingClassifier(n_estimators=est, max_depth=max_depth, learning_rate=lr).fit(x_train, y_train)\r\n",
        "  y_pred = gb.predict(x_test)\r\n",
        "  precision, recall, fscore, support = score(y_test, y_pred, pos_label='spam', average='binary')\r\n",
        "  print('Est: {} / Depth: {} / lr: {} ------- Precision: {} / Recall: {}'.format(\r\n",
        "      n_est, depth,lr, round(precision,3), round(recall, 3)\r\n",
        "  ))\r\n"
      ],
      "execution_count": 10,
      "outputs": []
    },
    {
      "cell_type": "code",
      "metadata": {
        "id": "b8L2ddcohbcO",
        "outputId": "c31dadb4-dc53-44c4-d8c8-c44a94315580",
        "colab": {
          "base_uri": "https://localhost:8080/"
        }
      },
      "source": [
        "for n_est in (50,100,150):\r\n",
        "  for depth in (3,7,11,15):\r\n",
        "    for lr in (0.01,0.1,1):\r\n",
        "      train_gb(n_est, depth,lr)"
      ],
      "execution_count": null,
      "outputs": [
        {
          "output_type": "stream",
          "text": [
            "/usr/local/lib/python3.6/dist-packages/sklearn/metrics/_classification.py:1272: UndefinedMetricWarning: Precision and F-score are ill-defined and being set to 0.0 due to no predicted samples. Use `zero_division` parameter to control this behavior.\n",
            "  _warn_prf(average, modifier, msg_start, len(result))\n"
          ],
          "name": "stderr"
        },
        {
          "output_type": "stream",
          "text": [
            "Est: 50 / Depth: 3 / lr: 0.01 ------- Precision: 0.0 / Recall: 0.0\n",
            "Est: 50 / Depth: 3 / lr: 0.1 ------- Precision: 0.93 / Recall: 0.745\n",
            "Est: 50 / Depth: 3 / lr: 1 ------- Precision: 0.884 / Recall: 0.801\n",
            "Est: 50 / Depth: 7 / lr: 0.01 ------- Precision: 1.0 / Recall: 0.019\n",
            "Est: 50 / Depth: 7 / lr: 0.1 ------- Precision: 0.956 / Recall: 0.801\n",
            "Est: 50 / Depth: 7 / lr: 1 ------- Precision: 0.934 / Recall: 0.789\n"
          ],
          "name": "stdout"
        },
        {
          "output_type": "stream",
          "text": [
            "/usr/local/lib/python3.6/dist-packages/sklearn/metrics/_classification.py:1272: UndefinedMetricWarning: Precision and F-score are ill-defined and being set to 0.0 due to no predicted samples. Use `zero_division` parameter to control this behavior.\n",
            "  _warn_prf(average, modifier, msg_start, len(result))\n"
          ],
          "name": "stderr"
        },
        {
          "output_type": "stream",
          "text": [
            "Est: 50 / Depth: 11 / lr: 0.01 ------- Precision: 0.0 / Recall: 0.0\n",
            "Est: 50 / Depth: 11 / lr: 0.1 ------- Precision: 0.938 / Recall: 0.839\n",
            "Est: 50 / Depth: 11 / lr: 1 ------- Precision: 0.91 / Recall: 0.814\n"
          ],
          "name": "stdout"
        },
        {
          "output_type": "stream",
          "text": [
            "/usr/local/lib/python3.6/dist-packages/sklearn/metrics/_classification.py:1272: UndefinedMetricWarning: Precision and F-score are ill-defined and being set to 0.0 due to no predicted samples. Use `zero_division` parameter to control this behavior.\n",
            "  _warn_prf(average, modifier, msg_start, len(result))\n"
          ],
          "name": "stderr"
        },
        {
          "output_type": "stream",
          "text": [
            "Est: 50 / Depth: 15 / lr: 0.01 ------- Precision: 0.0 / Recall: 0.0\n",
            "Est: 50 / Depth: 15 / lr: 0.1 ------- Precision: 0.942 / Recall: 0.814\n",
            "Est: 50 / Depth: 15 / lr: 1 ------- Precision: 0.877 / Recall: 0.845\n",
            "Est: 100 / Depth: 3 / lr: 0.01 ------- Precision: 0.965 / Recall: 0.509\n",
            "Est: 100 / Depth: 3 / lr: 0.1 ------- Precision: 0.941 / Recall: 0.789\n",
            "Est: 100 / Depth: 3 / lr: 1 ------- Precision: 0.891 / Recall: 0.814\n",
            "Est: 100 / Depth: 7 / lr: 0.01 ------- Precision: 0.955 / Recall: 0.658\n",
            "Est: 100 / Depth: 7 / lr: 0.1 ------- Precision: 0.95 / Recall: 0.832\n",
            "Est: 100 / Depth: 7 / lr: 1 ------- Precision: 0.942 / Recall: 0.801\n",
            "Est: 100 / Depth: 11 / lr: 0.01 ------- Precision: 0.959 / Recall: 0.733\n",
            "Est: 100 / Depth: 11 / lr: 0.1 ------- Precision: 0.951 / Recall: 0.839\n",
            "Est: 100 / Depth: 11 / lr: 1 ------- Precision: 0.878 / Recall: 0.807\n",
            "Est: 100 / Depth: 15 / lr: 0.01 ------- Precision: 0.939 / Recall: 0.77\n",
            "Est: 100 / Depth: 15 / lr: 0.1 ------- Precision: 0.95 / Recall: 0.832\n",
            "Est: 100 / Depth: 15 / lr: 1 ------- Precision: 0.89 / Recall: 0.807\n",
            "Est: 150 / Depth: 3 / lr: 0.01 ------- Precision: 0.957 / Recall: 0.547\n",
            "Est: 150 / Depth: 3 / lr: 0.1 ------- Precision: 0.921 / Recall: 0.795\n",
            "Est: 150 / Depth: 3 / lr: 1 ------- Precision: 0.878 / Recall: 0.801\n"
          ],
          "name": "stdout"
        }
      ]
    },
    {
      "cell_type": "code",
      "metadata": {
        "id": "tGUnyJh6jEAG"
      },
      "source": [
        "from sklearn.model_selection import  GridSearchCV"
      ],
      "execution_count": 13,
      "outputs": []
    },
    {
      "cell_type": "code",
      "metadata": {
        "id": "0pefFQyxjFvu",
        "outputId": "236d472b-c747-4fcf-c797-44fd81a1c162",
        "colab": {
          "base_uri": "https://localhost:8080/",
          "height": 513
        }
      },
      "source": [
        "gb = GradientBoostingClassifier()\r\n",
        "param = {'n_estimators': [100, 150],\r\n",
        "         'max_depth': [7,11,15],\r\n",
        "         'learning_rate' : [0.1]\r\n",
        "         }\r\n",
        "\r\n",
        "gs = GridSearchCV(gb, param, cv = 5, n_jobs=-1)\r\n",
        "cv_fit = gs.fit(x_features, data['label'])\r\n",
        "pd.DataFrame(cv_fit.cv_results_).sort_values('mean_test_score', ascending = False)[0:5]"
      ],
      "execution_count": 15,
      "outputs": [
        {
          "output_type": "stream",
          "text": [
            "/usr/local/lib/python3.6/dist-packages/joblib/externals/loky/process_executor.py:691: UserWarning: A worker stopped while some jobs were given to the executor. This can be caused by a too short worker timeout or by a memory leak.\n",
            "  \"timeout or by a memory leak.\", UserWarning\n"
          ],
          "name": "stderr"
        },
        {
          "output_type": "execute_result",
          "data": {
            "text/html": [
              "<div>\n",
              "<style scoped>\n",
              "    .dataframe tbody tr th:only-of-type {\n",
              "        vertical-align: middle;\n",
              "    }\n",
              "\n",
              "    .dataframe tbody tr th {\n",
              "        vertical-align: top;\n",
              "    }\n",
              "\n",
              "    .dataframe thead th {\n",
              "        text-align: right;\n",
              "    }\n",
              "</style>\n",
              "<table border=\"1\" class=\"dataframe\">\n",
              "  <thead>\n",
              "    <tr style=\"text-align: right;\">\n",
              "      <th></th>\n",
              "      <th>mean_fit_time</th>\n",
              "      <th>std_fit_time</th>\n",
              "      <th>mean_score_time</th>\n",
              "      <th>std_score_time</th>\n",
              "      <th>param_learning_rate</th>\n",
              "      <th>param_max_depth</th>\n",
              "      <th>param_n_estimators</th>\n",
              "      <th>params</th>\n",
              "      <th>split0_test_score</th>\n",
              "      <th>split1_test_score</th>\n",
              "      <th>split2_test_score</th>\n",
              "      <th>split3_test_score</th>\n",
              "      <th>split4_test_score</th>\n",
              "      <th>mean_test_score</th>\n",
              "      <th>std_test_score</th>\n",
              "      <th>rank_test_score</th>\n",
              "    </tr>\n",
              "  </thead>\n",
              "  <tbody>\n",
              "    <tr>\n",
              "      <th>3</th>\n",
              "      <td>381.553477</td>\n",
              "      <td>7.076690</td>\n",
              "      <td>0.147079</td>\n",
              "      <td>0.009905</td>\n",
              "      <td>0.1</td>\n",
              "      <td>11</td>\n",
              "      <td>150</td>\n",
              "      <td>{'learning_rate': 0.1, 'max_depth': 11, 'n_est...</td>\n",
              "      <td>0.968582</td>\n",
              "      <td>0.979354</td>\n",
              "      <td>0.970350</td>\n",
              "      <td>0.966757</td>\n",
              "      <td>0.970350</td>\n",
              "      <td>0.971079</td>\n",
              "      <td>0.004346</td>\n",
              "      <td>1</td>\n",
              "    </tr>\n",
              "    <tr>\n",
              "      <th>1</th>\n",
              "      <td>259.134003</td>\n",
              "      <td>4.406547</td>\n",
              "      <td>0.223425</td>\n",
              "      <td>0.099677</td>\n",
              "      <td>0.1</td>\n",
              "      <td>7</td>\n",
              "      <td>150</td>\n",
              "      <td>{'learning_rate': 0.1, 'max_depth': 7, 'n_esti...</td>\n",
              "      <td>0.969479</td>\n",
              "      <td>0.979354</td>\n",
              "      <td>0.969452</td>\n",
              "      <td>0.965858</td>\n",
              "      <td>0.969452</td>\n",
              "      <td>0.970719</td>\n",
              "      <td>0.004537</td>\n",
              "      <td>2</td>\n",
              "    </tr>\n",
              "    <tr>\n",
              "      <th>0</th>\n",
              "      <td>171.494390</td>\n",
              "      <td>9.629000</td>\n",
              "      <td>0.234480</td>\n",
              "      <td>0.097968</td>\n",
              "      <td>0.1</td>\n",
              "      <td>7</td>\n",
              "      <td>100</td>\n",
              "      <td>{'learning_rate': 0.1, 'max_depth': 7, 'n_esti...</td>\n",
              "      <td>0.969479</td>\n",
              "      <td>0.981149</td>\n",
              "      <td>0.965858</td>\n",
              "      <td>0.967655</td>\n",
              "      <td>0.967655</td>\n",
              "      <td>0.970359</td>\n",
              "      <td>0.005515</td>\n",
              "      <td>3</td>\n",
              "    </tr>\n",
              "    <tr>\n",
              "      <th>4</th>\n",
              "      <td>323.656388</td>\n",
              "      <td>9.350095</td>\n",
              "      <td>0.245536</td>\n",
              "      <td>0.082604</td>\n",
              "      <td>0.1</td>\n",
              "      <td>15</td>\n",
              "      <td>100</td>\n",
              "      <td>{'learning_rate': 0.1, 'max_depth': 15, 'n_est...</td>\n",
              "      <td>0.967684</td>\n",
              "      <td>0.976661</td>\n",
              "      <td>0.970350</td>\n",
              "      <td>0.964960</td>\n",
              "      <td>0.971249</td>\n",
              "      <td>0.970181</td>\n",
              "      <td>0.003915</td>\n",
              "      <td>4</td>\n",
              "    </tr>\n",
              "    <tr>\n",
              "      <th>5</th>\n",
              "      <td>478.042426</td>\n",
              "      <td>61.046993</td>\n",
              "      <td>0.270600</td>\n",
              "      <td>0.054543</td>\n",
              "      <td>0.1</td>\n",
              "      <td>15</td>\n",
              "      <td>150</td>\n",
              "      <td>{'learning_rate': 0.1, 'max_depth': 15, 'n_est...</td>\n",
              "      <td>0.967684</td>\n",
              "      <td>0.977558</td>\n",
              "      <td>0.970350</td>\n",
              "      <td>0.965858</td>\n",
              "      <td>0.969452</td>\n",
              "      <td>0.970181</td>\n",
              "      <td>0.003998</td>\n",
              "      <td>5</td>\n",
              "    </tr>\n",
              "  </tbody>\n",
              "</table>\n",
              "</div>"
            ],
            "text/plain": [
              "   mean_fit_time  std_fit_time  ...  std_test_score  rank_test_score\n",
              "3     381.553477      7.076690  ...        0.004346                1\n",
              "1     259.134003      4.406547  ...        0.004537                2\n",
              "0     171.494390      9.629000  ...        0.005515                3\n",
              "4     323.656388      9.350095  ...        0.003915                4\n",
              "5     478.042426     61.046993  ...        0.003998                5\n",
              "\n",
              "[5 rows x 16 columns]"
            ]
          },
          "metadata": {
            "tags": []
          },
          "execution_count": 15
        }
      ]
    },
    {
      "cell_type": "code",
      "metadata": {
        "id": "ilX4Rbh6b-It"
      },
      "source": [
        ""
      ],
      "execution_count": null,
      "outputs": []
    }
  ]
}